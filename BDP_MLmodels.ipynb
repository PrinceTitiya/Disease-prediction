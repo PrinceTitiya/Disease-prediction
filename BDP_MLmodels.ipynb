{
  "nbformat": 4,
  "nbformat_minor": 0,
  "metadata": {
    "colab": {
      "provenance": []
    },
    "kernelspec": {
      "name": "python3",
      "display_name": "Python 3"
    },
    "language_info": {
      "name": "python"
    }
  },
  "cells": [
    {
      "cell_type": "code",
      "execution_count": null,
      "metadata": {
        "colab": {
          "base_uri": "https://localhost:8080/"
        },
        "id": "KyOKJB0u1DY8",
        "outputId": "a8573672-1edb-4171-c397-93e42dfab92e"
      },
      "outputs": [
        {
          "output_type": "stream",
          "name": "stdout",
          "text": [
            "Collecting pyxlsb\n",
            "  Downloading pyxlsb-1.0.10-py2.py3-none-any.whl (23 kB)\n",
            "Installing collected packages: pyxlsb\n",
            "Successfully installed pyxlsb-1.0.10\n"
          ]
        }
      ],
      "source": [
        "pip install pyxlsb"
      ]
    },
    {
      "cell_type": "code",
      "source": [
        "import pandas as pd\n",
        "from sklearn.model_selection import train_test_split\n",
        "from sklearn.ensemble import RandomForestClassifier\n",
        "from sklearn.tree import DecisionTreeClassifier\n",
        "from sklearn.neighbors import KNeighborsClassifier\n",
        "from sklearn.linear_model import LogisticRegression\n",
        "from sklearn.preprocessing import LabelEncoder\n",
        "from sklearn.metrics import classification_report\n",
        "from sklearn.metrics import accuracy_score"
      ],
      "metadata": {
        "id": "8T11WhFf1lHz"
      },
      "execution_count": null,
      "outputs": []
    },
    {
      "cell_type": "code",
      "source": [
        "# Load the dataset\n",
        "data = pd.read_excel(\"/content/generated_data.xlsb\")\n",
        "\n",
        "# Encode categorical variables\n",
        "label_encoders = {}\n",
        "for column in data.columns:\n",
        "    if column != 'Age':\n",
        "        label_encoders[column] = LabelEncoder()\n",
        "        data[column] = label_encoders[column].fit_transform(data[column])\n",
        "\n",
        "# Features and target variable\n",
        "X = data.drop(columns=['Disease'])  # Features\n",
        "y = data['Disease']  # Target variable\n",
        "\n",
        "# Train-Test Split\n",
        "X_train, X_test, y_train, y_test = train_test_split(X, y, test_size=0.2, random_state=42)\n",
        "\n",
        "# Model Training and Evaluation\n",
        "models = [\n",
        "    RandomForestClassifier(n_estimators=100, random_state=42),\n",
        "    DecisionTreeClassifier(random_state=42),\n",
        "    KNeighborsClassifier(),\n",
        "    LogisticRegression(random_state=42)\n",
        "]\n",
        "\n",
        "for model in models:\n",
        "    # Train the model\n",
        "    model.fit(X_train, y_train)\n",
        "\n",
        "    # Make predictions\n",
        "    y_pred = model.predict(X_test)\n",
        "\n",
        "    # Model Evaluation\n",
        "    print(type(model).__name__)\n",
        "    print(classification_report(y_test, y_pred))\n",
        "    accuracy = accuracy_score(y_test, y_pred)\n",
        "    print(\"Accuracy:\", accuracy)\n"
      ],
      "metadata": {
        "colab": {
          "base_uri": "https://localhost:8080/"
        },
        "id": "4spsEv-l1OeQ",
        "outputId": "85d72436-2249-4db0-a859-a5a00da7d618"
      },
      "execution_count": null,
      "outputs": [
        {
          "output_type": "stream",
          "name": "stdout",
          "text": [
            "RandomForestClassifier\n",
            "              precision    recall  f1-score   support\n",
            "\n",
            "           0       0.25      0.27      0.26     25031\n",
            "           1       0.25      0.25      0.25     25027\n",
            "           2       0.25      0.24      0.24     25037\n",
            "           3       0.25      0.23      0.24     24905\n",
            "\n",
            "    accuracy                           0.25    100000\n",
            "   macro avg       0.25      0.25      0.25    100000\n",
            "weighted avg       0.25      0.25      0.25    100000\n",
            "\n",
            "Accuracy: 0.24923\n",
            "DecisionTreeClassifier\n",
            "              precision    recall  f1-score   support\n",
            "\n",
            "           0       0.25      0.25      0.25     25031\n",
            "           1       0.25      0.25      0.25     25027\n",
            "           2       0.25      0.25      0.25     25037\n",
            "           3       0.25      0.25      0.25     24905\n",
            "\n",
            "    accuracy                           0.25    100000\n",
            "   macro avg       0.25      0.25      0.25    100000\n",
            "weighted avg       0.25      0.25      0.25    100000\n",
            "\n",
            "Accuracy: 0.25088\n",
            "KNeighborsClassifier\n",
            "              precision    recall  f1-score   support\n",
            "\n",
            "           0       0.25      0.34      0.29     25031\n",
            "           1       0.25      0.28      0.26     25027\n",
            "           2       0.25      0.22      0.24     25037\n",
            "           3       0.25      0.16      0.19     24905\n",
            "\n",
            "    accuracy                           0.25    100000\n",
            "   macro avg       0.25      0.25      0.25    100000\n",
            "weighted avg       0.25      0.25      0.25    100000\n",
            "\n",
            "Accuracy: 0.25031\n",
            "LogisticRegression\n",
            "              precision    recall  f1-score   support\n",
            "\n",
            "           0       0.25      0.28      0.26     25031\n",
            "           1       0.25      0.21      0.23     25027\n",
            "           2       0.25      0.29      0.27     25037\n",
            "           3       0.25      0.22      0.23     24905\n",
            "\n",
            "    accuracy                           0.25    100000\n",
            "   macro avg       0.25      0.25      0.25    100000\n",
            "weighted avg       0.25      0.25      0.25    100000\n",
            "\n",
            "Accuracy: 0.24964\n"
          ]
        }
      ]
    }
  ]
}